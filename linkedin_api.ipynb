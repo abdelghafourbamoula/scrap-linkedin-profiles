{
 "cells": [
  {
   "cell_type": "code",
   "execution_count": 7,
   "outputs": [
    {
     "name": "stdout",
     "output_type": "stream",
     "text": [
      "150 Profile Founded !\n"
     ]
    }
   ],
   "source": [
    "from linkedin_api import Linkedin\n",
    "from LOGIN import USERNAME,PASSWORD\n",
    "\n",
    "# create an instance of the API client\n",
    "api = Linkedin(USERNAME,PASSWORD)\n",
    "\n",
    "# search for profiles based on a keyword\n",
    "search_results = api.search_people(keywords=['data engineer','data scientist', 'big data engineer'], regions='morocco', industries=['data science', 'big data'], limit=150)\n",
    "\n",
    "print(len(search_results),'Profile Founded !')"
   ],
   "metadata": {
    "collapsed": false
   }
  },
  {
   "cell_type": "markdown",
   "source": [
    "#### The document dormat will be folowwed\n",
    "```json\n",
    "{\n",
    "    profile_id,\n",
    "    headline,\n",
    "    lastName,\n",
    "    firstName,\n",
    "    industryName,\n",
    "    is student,\n",
    "    location: {geoCountryName, geoLocationName, location.basicLocation.countryCode},\n",
    "    birthDate{},\n",
    "    displayPictureUrl,\n",
    "    skills: [skills.name],\n",
    "    education [{\n",
    "        school: {schoolName, active, trackingId},\n",
    "        fieldOfStudy,\n",
    "        degreeName,\n",
    "        timePeriod: {endDate, startDate}\n",
    "    }],\n",
    "    experience[{\n",
    "        geoLocationName\n",
    "        companyName\n",
    "        timePeriod:{startDate{}, endDate{}},\n",
    "        title,\n",
    "    }],\n",
    "}\n",
    "```"
   ],
   "metadata": {
    "collapsed": false
   }
  },
  {
   "cell_type": "code",
   "execution_count": 9,
   "outputs": [
    {
     "name": "stderr",
     "output_type": "stream",
     "text": [
      "Extracting: 100%|██████████| 150/150 [19:23<00:00,  7.76s/it]"
     ]
    },
    {
     "name": "stdout",
     "output_type": "stream",
     "text": [
      "150 extracted profile ...\n"
     ]
    },
    {
     "name": "stderr",
     "output_type": "stream",
     "text": [
      "\n"
     ]
    }
   ],
   "source": [
    "from tqdm import tqdm\n",
    "\n",
    "target_profiles = list()\n",
    "for item in tqdm(search_results, desc='Extracting', total=150):\n",
    "    profile = api.get_profile(item.get('urn_id'))\n",
    "    profile_dict = {}\n",
    "    profile_dict['profile_id'] = profile.get('profile_id')\n",
    "    profile_dict['description'] = profile.get('headline')\n",
    "    profile_dict['lastName'] = profile.get('lastName')\n",
    "    profile_dict['firstName'] = profile.get('firstName')\n",
    "    profile_dict['industry'] = profile.get('industryName')\n",
    "    profile_dict['student'] = profile.get('student')\n",
    "    profile_dict['birthDate'] = {'month':profile.get('birthDate')['month'], 'day':profile.get('birthDate')['day']} if profile.get('birthDate') else None\n",
    "    profile_dict['pictureUrl'] = profile.get('displayPictureUrl')\n",
    "    profile_dict['location'] = {\n",
    "        'locationName':profile.get('geoLocationName'),\n",
    "        'country':profile.get('geoCountryName'),\n",
    "        'countryCode':profile.get('location').get('basicLocation')['countryCode'].upper()\n",
    "    }\n",
    "    profile_dict['skills'] = [skill['name'] for skill in profile.get('skills')]\n",
    "    profile_dict['education'] = [\n",
    "        {\n",
    "            'schoolName': school.get('schoolName'),\n",
    "            'field': school.get('fieldOfStudy'),\n",
    "            'degree': school.get('degreeName'),\n",
    "            'period': school.get('timePeriod')\n",
    "        }\n",
    "        for school in profile.get('education')\n",
    "    ]\n",
    "    profile_dict['experience'] = [\n",
    "        {\n",
    "            'title': experience.get('title'),\n",
    "            'companyName': experience.get('companyName'),\n",
    "            'location': experience.get('geoLocationName'),\n",
    "            'period':experience.get('timePeriod'),\n",
    "        }\n",
    "        for experience in profile.get('experience')\n",
    "    ]\n",
    "\n",
    "    target_profiles.append(profile_dict)\n",
    "\n",
    "print(len(target_profiles),\"extracted profile ...\")"
   ],
   "metadata": {
    "collapsed": false
   }
  },
  {
   "cell_type": "code",
   "execution_count": 10,
   "outputs": [
    {
     "data": {
      "text/plain": "{'profile_id': 'ACoAAC2MVq0Boem_9d6F_URxNHyXiXCy3k19Fzw',\n 'description': 'Data Analyst | Data Scientist | ML Engineer  | Big Data Analyst | FinTech Industry | AI',\n 'lastName': 'BAGHEL',\n 'firstName': 'VICKYSINGH',\n 'industry': 'IT Services and IT Consulting',\n 'student': False,\n 'birthDate': {'month': 6, 'day': 19},\n 'pictureUrl': 'https://media.licdn.com/dms/image/D4D35AQF_1Abn5r9YiA/profile-framedphoto-shrink_',\n 'location': {'locationName': 'Milan, Lombardy',\n  'country': 'Italy',\n  'countryCode': 'IT'},\n 'skills': ['Data Analysis',\n  'Statistics',\n  'Data Visualization',\n  'Data Science',\n  'Machine Learning',\n  'Quality Assurance',\n  'SAS Programming',\n  'Quality Management',\n  'Core Java',\n  'SAS',\n  'R',\n  'Tableau',\n  'Python (Programming Language)',\n  'Hadoop',\n  'Microsoft Power BI',\n  'SQL',\n  'Microsoft Office',\n  'Microsoft Excel',\n  'R (Programming Language)',\n  'Apache Spark',\n  'Big Data Analytics',\n  'Data Analytics',\n  'Customer Analysis',\n  'Predictive Analytics',\n  'SAS Certified Base Programmer',\n  'Financial Analysis',\n  'Business Analysis',\n  'Predictive Modeling',\n  'Business Analytics',\n  'Data Mining',\n  'Artificial Intelligence (AI)',\n  'Analytical Skills',\n  'Continuous Improvement',\n  'Business Intelligence (BI)',\n  'Decision Trees'],\n 'education': [{'schoolName': 'Università degli Studi di Milano',\n   'field': 'Data Science and Economics',\n   'degree': \"Master's degree\",\n   'period': {'endDate': {'year': 2022}, 'startDate': {'year': 2020}}},\n  {'schoolName': 'Kalinga University, Raipur',\n   'field': None,\n   'degree': \"Bachelor's degree\",\n   'period': {'endDate': {'year': 2017}, 'startDate': {'year': 2014}}},\n  {'schoolName': 'Government Polytechnic',\n   'field': 'Mechanical Engineering/Mechanical Technology/Technician',\n   'degree': 'Diploma',\n   'period': {'endDate': {'year': 2011}, 'startDate': {'year': 2008}}}],\n 'experience': [{'title': 'Intern Data visualization for fintch',\n   'companyName': 'AcomeA SGR S.p.A.',\n   'location': 'Milan, Lombardy, Italy',\n   'period': {'endDate': {'month': 3, 'year': 2022},\n    'startDate': {'month': 1, 'year': 2022}}},\n  {'title': 'Data Analyst',\n   'companyName': 'Mindtree',\n   'location': 'India',\n   'period': {'endDate': {'month': 9, 'year': 2020},\n    'startDate': {'month': 9, 'year': 2017}}},\n  {'title': 'Quality Assurance Engineer',\n   'companyName': 'Mahindra and Mahindra Limited [Automotive, Farm Equipment and Agri Business]',\n   'location': 'Nagpur Area, India',\n   'period': {'endDate': {'month': 9, 'year': 2014},\n    'startDate': {'month': 7, 'year': 2012}}},\n  {'title': 'Supervisor Trainee ',\n   'companyName': 'Mahindra and Mahindra Limited [Automotive and Farm Equipment Business]',\n   'location': 'Nagpur, Maharashtra, India',\n   'period': {'endDate': {'month': 6, 'year': 2012},\n    'startDate': {'month': 6, 'year': 2011}}}]}"
     },
     "execution_count": 10,
     "metadata": {},
     "output_type": "execute_result"
    }
   ],
   "source": [
    "profile_dict"
   ],
   "metadata": {
    "collapsed": false
   }
  },
  {
   "cell_type": "code",
   "execution_count": 11,
   "outputs": [],
   "source": [
    "import json\n",
    "\n",
    "with open('linkedin_profiles.json','w') as json_file:\n",
    "    json.dump(target_profiles, json_file)\n"
   ],
   "metadata": {
    "collapsed": false
   }
  },
  {
   "cell_type": "code",
   "execution_count": 12,
   "outputs": [
    {
     "data": {
      "text/plain": "                                profile_id  \\\n0  ACoAADAtTckBM-2AYYBPxwPzklWs9lJFXBS2aLI   \n1  ACoAACU1jvgBWq2iBpftde9WYjn4wrVyWSDpYpo   \n2  ACoAACkzrcEBQTHh2uJ3U8HPshsLlB-1JcYgSRU   \n3  ACoAAC_OWVIBSI63soeqme-y0W4zT4kVD4RGoys   \n4  ACoAAC88LAkBKwe1VOXy0dDeLdiXThbGRSrJR1Y   \n\n                                         description   lastName     firstName  \\\n0                 Big Data Engineer / Data Scientist     Ammour  Abdelkaioume   \n1  Big Data Engineer | Data Scientist | Web Devel...  Solaymane       Chamane   \n2                Data scientist - Ai movement | Um6p     koulla       Mohamed   \n3                                     Data Scientist  AIT BELLA      Mouhsine   \n4  Data Scientist | Big Data Engineer | BI consul...     Fadoul      Abdellah   \n\n                               industry  student                birthDate  \\\n0  Technology, Information and Internet    False   {'month': 1, 'day': 8}   \n1         IT Services and IT Consulting    False  {'month': 5, 'day': 11}   \n2               IT System Data Services    False                     None   \n3                  Software Development    False  {'month': 7, 'day': 16}   \n4                     Research Services    False                     None   \n\n                                          pictureUrl  \\\n0  https://media.licdn.com/dms/image/C4D03AQH0hZr...   \n1  https://media.licdn.com/dms/image/C4E03AQHFiVP...   \n2  https://media.licdn.com/dms/image/D4E03AQEBiKd...   \n3  https://media.licdn.com/dms/image/C4D03AQG0i8M...   \n4  https://media.licdn.com/dms/image/D5635AQFDBqR...   \n\n                                            location  \\\n0  {'locationName': 'Casablanca-Settat', 'country...   \n1  {'locationName': 'Marrakesh, Marrakesh-Safi', ...   \n2  {'locationName': 'Rabat, Rabat-Salé-Kenitra', ...   \n3  {'locationName': 'Taroudant, Souss-Massa', 'co...   \n4  {'locationName': 'Casablanca Metropolitan Area...   \n\n                                              skills  \\\n0  [SQL Server Integration Services (SSIS), SQL S...   \n1  [Cloud Computing, Leadership d’équipe, Méthode...   \n2  [Recherche opérationnelle, VRP, Internet des o...   \n3  [Ingénierie, Recherche, Formation, Stratégie, ...   \n4  [Machine Learning, Deep Learning, Big Data, Py...   \n\n                                           education  \\\n0  [{'schoolName': 'Universite Internationale de ...   \n1  [{'schoolName': 'Ecole Nationale des Sciences ...   \n2  [{'schoolName': 'ENSET Mohammedia', 'field': '...   \n3  [{'schoolName': 'Faculté des Sciences et Techn...   \n4  [{'schoolName': 'Université Hassan II Mohammed...   \n\n                                          experience  \n0                                                 []  \n1  [{'title': 'IT Manager', 'companyName': 'Dabad...  \n2  [{'title': 'Data Scientist', 'companyName': 'A...  \n3  [{'title': 'Data Scientist', 'companyName': 'C...  \n4                                                 []  ",
      "text/html": "<div>\n<style scoped>\n    .dataframe tbody tr th:only-of-type {\n        vertical-align: middle;\n    }\n\n    .dataframe tbody tr th {\n        vertical-align: top;\n    }\n\n    .dataframe thead th {\n        text-align: right;\n    }\n</style>\n<table border=\"1\" class=\"dataframe\">\n  <thead>\n    <tr style=\"text-align: right;\">\n      <th></th>\n      <th>profile_id</th>\n      <th>description</th>\n      <th>lastName</th>\n      <th>firstName</th>\n      <th>industry</th>\n      <th>student</th>\n      <th>birthDate</th>\n      <th>pictureUrl</th>\n      <th>location</th>\n      <th>skills</th>\n      <th>education</th>\n      <th>experience</th>\n    </tr>\n  </thead>\n  <tbody>\n    <tr>\n      <th>0</th>\n      <td>ACoAADAtTckBM-2AYYBPxwPzklWs9lJFXBS2aLI</td>\n      <td>Big Data Engineer / Data Scientist</td>\n      <td>Ammour</td>\n      <td>Abdelkaioume</td>\n      <td>Technology, Information and Internet</td>\n      <td>False</td>\n      <td>{'month': 1, 'day': 8}</td>\n      <td>https://media.licdn.com/dms/image/C4D03AQH0hZr...</td>\n      <td>{'locationName': 'Casablanca-Settat', 'country...</td>\n      <td>[SQL Server Integration Services (SSIS), SQL S...</td>\n      <td>[{'schoolName': 'Universite Internationale de ...</td>\n      <td>[]</td>\n    </tr>\n    <tr>\n      <th>1</th>\n      <td>ACoAACU1jvgBWq2iBpftde9WYjn4wrVyWSDpYpo</td>\n      <td>Big Data Engineer | Data Scientist | Web Devel...</td>\n      <td>Solaymane</td>\n      <td>Chamane</td>\n      <td>IT Services and IT Consulting</td>\n      <td>False</td>\n      <td>{'month': 5, 'day': 11}</td>\n      <td>https://media.licdn.com/dms/image/C4E03AQHFiVP...</td>\n      <td>{'locationName': 'Marrakesh, Marrakesh-Safi', ...</td>\n      <td>[Cloud Computing, Leadership d’équipe, Méthode...</td>\n      <td>[{'schoolName': 'Ecole Nationale des Sciences ...</td>\n      <td>[{'title': 'IT Manager', 'companyName': 'Dabad...</td>\n    </tr>\n    <tr>\n      <th>2</th>\n      <td>ACoAACkzrcEBQTHh2uJ3U8HPshsLlB-1JcYgSRU</td>\n      <td>Data scientist - Ai movement | Um6p</td>\n      <td>koulla</td>\n      <td>Mohamed</td>\n      <td>IT System Data Services</td>\n      <td>False</td>\n      <td>None</td>\n      <td>https://media.licdn.com/dms/image/D4E03AQEBiKd...</td>\n      <td>{'locationName': 'Rabat, Rabat-Salé-Kenitra', ...</td>\n      <td>[Recherche opérationnelle, VRP, Internet des o...</td>\n      <td>[{'schoolName': 'ENSET Mohammedia', 'field': '...</td>\n      <td>[{'title': 'Data Scientist', 'companyName': 'A...</td>\n    </tr>\n    <tr>\n      <th>3</th>\n      <td>ACoAAC_OWVIBSI63soeqme-y0W4zT4kVD4RGoys</td>\n      <td>Data Scientist</td>\n      <td>AIT BELLA</td>\n      <td>Mouhsine</td>\n      <td>Software Development</td>\n      <td>False</td>\n      <td>{'month': 7, 'day': 16}</td>\n      <td>https://media.licdn.com/dms/image/C4D03AQG0i8M...</td>\n      <td>{'locationName': 'Taroudant, Souss-Massa', 'co...</td>\n      <td>[Ingénierie, Recherche, Formation, Stratégie, ...</td>\n      <td>[{'schoolName': 'Faculté des Sciences et Techn...</td>\n      <td>[{'title': 'Data Scientist', 'companyName': 'C...</td>\n    </tr>\n    <tr>\n      <th>4</th>\n      <td>ACoAAC88LAkBKwe1VOXy0dDeLdiXThbGRSrJR1Y</td>\n      <td>Data Scientist | Big Data Engineer | BI consul...</td>\n      <td>Fadoul</td>\n      <td>Abdellah</td>\n      <td>Research Services</td>\n      <td>False</td>\n      <td>None</td>\n      <td>https://media.licdn.com/dms/image/D5635AQFDBqR...</td>\n      <td>{'locationName': 'Casablanca Metropolitan Area...</td>\n      <td>[Machine Learning, Deep Learning, Big Data, Py...</td>\n      <td>[{'schoolName': 'Université Hassan II Mohammed...</td>\n      <td>[]</td>\n    </tr>\n  </tbody>\n</table>\n</div>"
     },
     "execution_count": 12,
     "metadata": {},
     "output_type": "execute_result"
    }
   ],
   "source": [
    "import pandas as pd\n",
    "\n",
    "linkedin_df = pd.read_json('linkedin_profiles.json')\n",
    "linkedin_df.head()"
   ],
   "metadata": {
    "collapsed": false
   }
  },
  {
   "cell_type": "code",
   "execution_count": 13,
   "outputs": [
    {
     "data": {
      "text/plain": "(150, 12)"
     },
     "execution_count": 13,
     "metadata": {},
     "output_type": "execute_result"
    }
   ],
   "source": [
    "linkedin_df.shape"
   ],
   "metadata": {
    "collapsed": false
   }
  },
  {
   "cell_type": "code",
   "execution_count": 15,
   "outputs": [],
   "source": [
    "linkedin_df.to_csv(\"linkedin_profiles.csv\")"
   ],
   "metadata": {
    "collapsed": false
   }
  },
  {
   "cell_type": "code",
   "execution_count": 16,
   "outputs": [
    {
     "data": {
      "text/plain": "     Unnamed: 0                               profile_id  \\\n0             0  ACoAADAtTckBM-2AYYBPxwPzklWs9lJFXBS2aLI   \n1             1  ACoAACU1jvgBWq2iBpftde9WYjn4wrVyWSDpYpo   \n2             2  ACoAACkzrcEBQTHh2uJ3U8HPshsLlB-1JcYgSRU   \n3             3  ACoAAC_OWVIBSI63soeqme-y0W4zT4kVD4RGoys   \n4             4  ACoAAC88LAkBKwe1VOXy0dDeLdiXThbGRSrJR1Y   \n..          ...                                      ...   \n145         145  ACoAACmVakkBzlioDTb9OxZi56jWP7mrye5qoqw   \n146         146  ACoAACH2sXoBKx_rFSdCcbArLTXJsJARg6Qzn7Q   \n147         147  ACoAACTfWycBo3OD0pRtGLj6HPbtOKhjMFXiTyQ   \n148         148  ACoAAA-iW1EBBYCBVENldP4O4Olq46LL2_H6B1Y   \n149         149  ACoAAC2MVq0Boem_9d6F_URxNHyXiXCy3k19Fzw   \n\n                                           description   lastName  \\\n0                   Big Data Engineer / Data Scientist     Ammour   \n1    Big Data Engineer | Data Scientist | Web Devel...  Solaymane   \n2                  Data scientist - Ai movement | Um6p     koulla   \n3                                       Data Scientist  AIT BELLA   \n4    Data Scientist | Big Data Engineer | BI consul...     Fadoul   \n..                                                 ...        ...   \n145                     Data Scientist chez Stellantis     Fadili   \n146  BI & Big Data Engineer || Data analyst || Data...   Guertite   \n147  BigData engineer / Data Scientist chez BCP2S (...    MOTONNE   \n148    Data scientist | ML Engineer | GCP Certified DE    Mestour   \n149  Data Analyst | Data Scientist | ML Engineer  |...     BAGHEL   \n\n        firstName                              industry  student  \\\n0    Abdelkaioume  Technology, Information and Internet    False   \n1         Chamane         IT Services and IT Consulting    False   \n2         Mohamed               IT System Data Services    False   \n3        Mouhsine                  Software Development    False   \n4        Abdellah                     Research Services    False   \n..            ...                                   ...      ...   \n145        Anouar           Motor Vehicle Manufacturing    False   \n146      Soufiane      Business Consulting and Services    False   \n147         Mehdi                  Software Development    False   \n148         Ziyad         IT Services and IT Consulting    False   \n149    VICKYSINGH         IT Services and IT Consulting    False   \n\n                   birthDate  \\\n0     {'month': 1, 'day': 8}   \n1    {'month': 5, 'day': 11}   \n2                        NaN   \n3    {'month': 7, 'day': 16}   \n4                        NaN   \n..                       ...   \n145                      NaN   \n146                      NaN   \n147  {'month': 3, 'day': 14}   \n148                      NaN   \n149  {'month': 6, 'day': 19}   \n\n                                            pictureUrl  \\\n0    https://media.licdn.com/dms/image/C4D03AQH0hZr...   \n1    https://media.licdn.com/dms/image/C4E03AQHFiVP...   \n2    https://media.licdn.com/dms/image/D4E03AQEBiKd...   \n3    https://media.licdn.com/dms/image/C4D03AQG0i8M...   \n4    https://media.licdn.com/dms/image/D5635AQFDBqR...   \n..                                                 ...   \n145  https://media.licdn.com/dms/image/C4E03AQFhc64...   \n146  https://media.licdn.com/dms/image/D4E03AQFt2n-...   \n147  https://media.licdn.com/dms/image/C5603AQFTL7p...   \n148  https://media.licdn.com/dms/image/C5603AQGhlIi...   \n149  https://media.licdn.com/dms/image/D4D35AQF_1Ab...   \n\n                                              location  \\\n0    {'locationName': 'Casablanca-Settat', 'country...   \n1    {'locationName': 'Marrakesh, Marrakesh-Safi', ...   \n2    {'locationName': 'Rabat, Rabat-Salé-Kenitra', ...   \n3    {'locationName': 'Taroudant, Souss-Massa', 'co...   \n4    {'locationName': 'Casablanca Metropolitan Area...   \n..                                                 ...   \n145  {'locationName': 'Rabat, Rabat-Salé-Kenitra', ...   \n146  {'locationName': 'Prefecture of Casablanca, Ca...   \n147  {'locationName': 'Casablanca-Settat', 'country...   \n148  {'locationName': 'Fontenay-sous-Bois, Île-de-F...   \n149  {'locationName': 'Milan, Lombardy', 'country':...   \n\n                                                skills  \\\n0    ['SQL Server Integration Services (SSIS)', 'SQ...   \n1    ['Cloud Computing', 'Leadership d’équipe', 'Mé...   \n2    ['Recherche opérationnelle', 'VRP', 'Internet ...   \n3    ['Ingénierie', 'Recherche', 'Formation', 'Stra...   \n4    ['Machine Learning', 'Deep Learning', 'Big Dat...   \n..                                                 ...   \n145  ['Big Data', 'Analytique', 'Science des donnée...   \n146  ['Data mining', 'Machine learning', 'Data Visu...   \n147  ['Développement Salesforce.com', 'Data mining'...   \n148  ['Google Cloud Platform (GCP)', 'Machine Learn...   \n149  ['Data Analysis', 'Statistics', 'Data Visualiz...   \n\n                                             education  \\\n0    [{'schoolName': 'Universite Internationale de ...   \n1    [{'schoolName': 'Ecole Nationale des Sciences ...   \n2    [{'schoolName': 'ENSET Mohammedia', 'field': '...   \n3    [{'schoolName': 'Faculté des Sciences et Techn...   \n4    [{'schoolName': 'Université Hassan II Mohammed...   \n..                                                 ...   \n145  [{'schoolName': 'Universite Internationale de ...   \n146  [{'schoolName': 'FST Settat', 'field': 'Busine...   \n147  [{'schoolName': 'Université Ibn Tofail', 'fiel...   \n148  [{'schoolName': 'Universite Internationale de ...   \n149  [{'schoolName': 'Università degli Studi di Mil...   \n\n                                            experience  \n0                                                   []  \n1    [{'title': 'IT Manager', 'companyName': 'Dabad...  \n2    [{'title': 'Data Scientist', 'companyName': 'A...  \n3    [{'title': 'Data Scientist', 'companyName': 'C...  \n4                                                   []  \n..                                                 ...  \n145  [{'title': 'Data scientist', 'companyName': 'S...  \n146  [{'title': 'Consultant Support FAI', 'companyN...  \n147  [{'title': 'BigData engineer / Data Scientist'...  \n148  [{'title': 'Data Scientist', 'companyName': 'G...  \n149  [{'title': 'Intern Data visualization for fint...  \n\n[150 rows x 13 columns]",
      "text/html": "<div>\n<style scoped>\n    .dataframe tbody tr th:only-of-type {\n        vertical-align: middle;\n    }\n\n    .dataframe tbody tr th {\n        vertical-align: top;\n    }\n\n    .dataframe thead th {\n        text-align: right;\n    }\n</style>\n<table border=\"1\" class=\"dataframe\">\n  <thead>\n    <tr style=\"text-align: right;\">\n      <th></th>\n      <th>Unnamed: 0</th>\n      <th>profile_id</th>\n      <th>description</th>\n      <th>lastName</th>\n      <th>firstName</th>\n      <th>industry</th>\n      <th>student</th>\n      <th>birthDate</th>\n      <th>pictureUrl</th>\n      <th>location</th>\n      <th>skills</th>\n      <th>education</th>\n      <th>experience</th>\n    </tr>\n  </thead>\n  <tbody>\n    <tr>\n      <th>0</th>\n      <td>0</td>\n      <td>ACoAADAtTckBM-2AYYBPxwPzklWs9lJFXBS2aLI</td>\n      <td>Big Data Engineer / Data Scientist</td>\n      <td>Ammour</td>\n      <td>Abdelkaioume</td>\n      <td>Technology, Information and Internet</td>\n      <td>False</td>\n      <td>{'month': 1, 'day': 8}</td>\n      <td>https://media.licdn.com/dms/image/C4D03AQH0hZr...</td>\n      <td>{'locationName': 'Casablanca-Settat', 'country...</td>\n      <td>['SQL Server Integration Services (SSIS)', 'SQ...</td>\n      <td>[{'schoolName': 'Universite Internationale de ...</td>\n      <td>[]</td>\n    </tr>\n    <tr>\n      <th>1</th>\n      <td>1</td>\n      <td>ACoAACU1jvgBWq2iBpftde9WYjn4wrVyWSDpYpo</td>\n      <td>Big Data Engineer | Data Scientist | Web Devel...</td>\n      <td>Solaymane</td>\n      <td>Chamane</td>\n      <td>IT Services and IT Consulting</td>\n      <td>False</td>\n      <td>{'month': 5, 'day': 11}</td>\n      <td>https://media.licdn.com/dms/image/C4E03AQHFiVP...</td>\n      <td>{'locationName': 'Marrakesh, Marrakesh-Safi', ...</td>\n      <td>['Cloud Computing', 'Leadership d’équipe', 'Mé...</td>\n      <td>[{'schoolName': 'Ecole Nationale des Sciences ...</td>\n      <td>[{'title': 'IT Manager', 'companyName': 'Dabad...</td>\n    </tr>\n    <tr>\n      <th>2</th>\n      <td>2</td>\n      <td>ACoAACkzrcEBQTHh2uJ3U8HPshsLlB-1JcYgSRU</td>\n      <td>Data scientist - Ai movement | Um6p</td>\n      <td>koulla</td>\n      <td>Mohamed</td>\n      <td>IT System Data Services</td>\n      <td>False</td>\n      <td>NaN</td>\n      <td>https://media.licdn.com/dms/image/D4E03AQEBiKd...</td>\n      <td>{'locationName': 'Rabat, Rabat-Salé-Kenitra', ...</td>\n      <td>['Recherche opérationnelle', 'VRP', 'Internet ...</td>\n      <td>[{'schoolName': 'ENSET Mohammedia', 'field': '...</td>\n      <td>[{'title': 'Data Scientist', 'companyName': 'A...</td>\n    </tr>\n    <tr>\n      <th>3</th>\n      <td>3</td>\n      <td>ACoAAC_OWVIBSI63soeqme-y0W4zT4kVD4RGoys</td>\n      <td>Data Scientist</td>\n      <td>AIT BELLA</td>\n      <td>Mouhsine</td>\n      <td>Software Development</td>\n      <td>False</td>\n      <td>{'month': 7, 'day': 16}</td>\n      <td>https://media.licdn.com/dms/image/C4D03AQG0i8M...</td>\n      <td>{'locationName': 'Taroudant, Souss-Massa', 'co...</td>\n      <td>['Ingénierie', 'Recherche', 'Formation', 'Stra...</td>\n      <td>[{'schoolName': 'Faculté des Sciences et Techn...</td>\n      <td>[{'title': 'Data Scientist', 'companyName': 'C...</td>\n    </tr>\n    <tr>\n      <th>4</th>\n      <td>4</td>\n      <td>ACoAAC88LAkBKwe1VOXy0dDeLdiXThbGRSrJR1Y</td>\n      <td>Data Scientist | Big Data Engineer | BI consul...</td>\n      <td>Fadoul</td>\n      <td>Abdellah</td>\n      <td>Research Services</td>\n      <td>False</td>\n      <td>NaN</td>\n      <td>https://media.licdn.com/dms/image/D5635AQFDBqR...</td>\n      <td>{'locationName': 'Casablanca Metropolitan Area...</td>\n      <td>['Machine Learning', 'Deep Learning', 'Big Dat...</td>\n      <td>[{'schoolName': 'Université Hassan II Mohammed...</td>\n      <td>[]</td>\n    </tr>\n    <tr>\n      <th>...</th>\n      <td>...</td>\n      <td>...</td>\n      <td>...</td>\n      <td>...</td>\n      <td>...</td>\n      <td>...</td>\n      <td>...</td>\n      <td>...</td>\n      <td>...</td>\n      <td>...</td>\n      <td>...</td>\n      <td>...</td>\n      <td>...</td>\n    </tr>\n    <tr>\n      <th>145</th>\n      <td>145</td>\n      <td>ACoAACmVakkBzlioDTb9OxZi56jWP7mrye5qoqw</td>\n      <td>Data Scientist chez Stellantis</td>\n      <td>Fadili</td>\n      <td>Anouar</td>\n      <td>Motor Vehicle Manufacturing</td>\n      <td>False</td>\n      <td>NaN</td>\n      <td>https://media.licdn.com/dms/image/C4E03AQFhc64...</td>\n      <td>{'locationName': 'Rabat, Rabat-Salé-Kenitra', ...</td>\n      <td>['Big Data', 'Analytique', 'Science des donnée...</td>\n      <td>[{'schoolName': 'Universite Internationale de ...</td>\n      <td>[{'title': 'Data scientist', 'companyName': 'S...</td>\n    </tr>\n    <tr>\n      <th>146</th>\n      <td>146</td>\n      <td>ACoAACH2sXoBKx_rFSdCcbArLTXJsJARg6Qzn7Q</td>\n      <td>BI &amp; Big Data Engineer || Data analyst || Data...</td>\n      <td>Guertite</td>\n      <td>Soufiane</td>\n      <td>Business Consulting and Services</td>\n      <td>False</td>\n      <td>NaN</td>\n      <td>https://media.licdn.com/dms/image/D4E03AQFt2n-...</td>\n      <td>{'locationName': 'Prefecture of Casablanca, Ca...</td>\n      <td>['Data mining', 'Machine learning', 'Data Visu...</td>\n      <td>[{'schoolName': 'FST Settat', 'field': 'Busine...</td>\n      <td>[{'title': 'Consultant Support FAI', 'companyN...</td>\n    </tr>\n    <tr>\n      <th>147</th>\n      <td>147</td>\n      <td>ACoAACTfWycBo3OD0pRtGLj6HPbtOKhjMFXiTyQ</td>\n      <td>BigData engineer / Data Scientist chez BCP2S (...</td>\n      <td>MOTONNE</td>\n      <td>Mehdi</td>\n      <td>Software Development</td>\n      <td>False</td>\n      <td>{'month': 3, 'day': 14}</td>\n      <td>https://media.licdn.com/dms/image/C5603AQFTL7p...</td>\n      <td>{'locationName': 'Casablanca-Settat', 'country...</td>\n      <td>['Développement Salesforce.com', 'Data mining'...</td>\n      <td>[{'schoolName': 'Université Ibn Tofail', 'fiel...</td>\n      <td>[{'title': 'BigData engineer / Data Scientist'...</td>\n    </tr>\n    <tr>\n      <th>148</th>\n      <td>148</td>\n      <td>ACoAAA-iW1EBBYCBVENldP4O4Olq46LL2_H6B1Y</td>\n      <td>Data scientist | ML Engineer | GCP Certified DE</td>\n      <td>Mestour</td>\n      <td>Ziyad</td>\n      <td>IT Services and IT Consulting</td>\n      <td>False</td>\n      <td>NaN</td>\n      <td>https://media.licdn.com/dms/image/C5603AQGhlIi...</td>\n      <td>{'locationName': 'Fontenay-sous-Bois, Île-de-F...</td>\n      <td>['Google Cloud Platform (GCP)', 'Machine Learn...</td>\n      <td>[{'schoolName': 'Universite Internationale de ...</td>\n      <td>[{'title': 'Data Scientist', 'companyName': 'G...</td>\n    </tr>\n    <tr>\n      <th>149</th>\n      <td>149</td>\n      <td>ACoAAC2MVq0Boem_9d6F_URxNHyXiXCy3k19Fzw</td>\n      <td>Data Analyst | Data Scientist | ML Engineer  |...</td>\n      <td>BAGHEL</td>\n      <td>VICKYSINGH</td>\n      <td>IT Services and IT Consulting</td>\n      <td>False</td>\n      <td>{'month': 6, 'day': 19}</td>\n      <td>https://media.licdn.com/dms/image/D4D35AQF_1Ab...</td>\n      <td>{'locationName': 'Milan, Lombardy', 'country':...</td>\n      <td>['Data Analysis', 'Statistics', 'Data Visualiz...</td>\n      <td>[{'schoolName': 'Università degli Studi di Mil...</td>\n      <td>[{'title': 'Intern Data visualization for fint...</td>\n    </tr>\n  </tbody>\n</table>\n<p>150 rows × 13 columns</p>\n</div>"
     },
     "execution_count": 16,
     "metadata": {},
     "output_type": "execute_result"
    }
   ],
   "source": [
    "pd.read_csv(\"linkedin_profiles.csv\")"
   ],
   "metadata": {
    "collapsed": false
   }
  },
  {
   "cell_type": "code",
   "execution_count": null,
   "outputs": [],
   "source": [],
   "metadata": {
    "collapsed": false
   }
  }
 ],
 "metadata": {
  "kernelspec": {
   "display_name": "Python 3",
   "language": "python",
   "name": "python3"
  },
  "language_info": {
   "codemirror_mode": {
    "name": "ipython",
    "version": 2
   },
   "file_extension": ".py",
   "mimetype": "text/x-python",
   "name": "python",
   "nbconvert_exporter": "python",
   "pygments_lexer": "ipython2",
   "version": "2.7.6"
  }
 },
 "nbformat": 4,
 "nbformat_minor": 0
}
